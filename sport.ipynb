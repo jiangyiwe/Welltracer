{
 "cells": [
  {
   "cell_type": "code",
   "execution_count": 1,
   "id": "initial_id",
   "metadata": {
    "collapsed": true,
    "ExecuteTime": {
     "end_time": "2023-12-27T16:43:22.263464600Z",
     "start_time": "2023-12-27T16:43:13.427654400Z"
    }
   },
   "outputs": [
    {
     "name": "stdout",
     "output_type": "stream",
     "text": [
      "WARNING:tensorflow:From C:\\Users\\Jiang\\flask-vue-crud\\env\\Lib\\site-packages\\keras\\src\\losses.py:2976: The name tf.losses.sparse_softmax_cross_entropy is deprecated. Please use tf.compat.v1.losses.sparse_softmax_cross_entropy instead.\n"
     ]
    }
   ],
   "source": [
    "import os\n",
    "import random\n",
    "import numpy as np\n",
    "import tensorflow as tf\n",
    "import cv2\n",
    "import matplotlib.pyplot as plt\n",
    "from tensorflow.keras.models import Sequential\n",
    "from tensorflow.keras.layers import Dense, Conv2D, MaxPooling2D, Flatten\n",
    "from tensorflow.keras.optimizers import Adam\n",
    "from sklearn.model_selection import train_test_split\n",
    "from tensorflow.keras.utils import to_categorical\n"
   ]
  },
  {
   "cell_type": "code",
   "execution_count": 3,
   "outputs": [
    {
     "name": "stdout",
     "output_type": "stream",
     "text": [
      "Classes: ['barbell biceps curl', 'bench press', 'chest fly machine', 'deadlift', 'decline bench press', 'hammer curl', 'hip thrust', 'incline bench press', 'lat pulldown', 'lateral raise', 'leg extension', 'leg raises', 'plank', 'pull Up', 'push-up', 'romanian deadlift', 'russian twist', 'shoulder press', 'squat', 't bar row', 'tricep Pushdown', 'tricep dips']\n"
     ]
    }
   ],
   "source": [
    "# Directory where videos are stored\n",
    "DATA_DIR = \"data/sport\"\n",
    "\n",
    "# Mapping classes\n",
    "classes = sorted(os.listdir(DATA_DIR))  # Assuming folder names are class names\n",
    "print(\"Classes:\", classes)\n",
    "\n",
    "# Load videos and labels\n",
    "data = []\n",
    "labels = []\n",
    "\n",
    "for category in classes:\n",
    "    videos = os.listdir(os.path.join(DATA_DIR, category))\n",
    "    for video in videos:\n",
    "        video_path = os.path.join(DATA_DIR, category, video)\n",
    "        # You might want to extract features or frames from videos here\n",
    "        # For example, capturing one frame for simplicity\n",
    "        cap = cv2.VideoCapture(video_path)\n",
    "        ret, frame = cap.read()\n",
    "        if ret:\n",
    "            frame = cv2.resize(frame, (224, 224))  # Resizing to a fixed size\n",
    "            data.append(frame)\n",
    "            labels.append(classes.index(category))\n",
    "        cap.release()\n",
    "\n",
    "data = np.array(data)\n",
    "labels = np.array(labels)\n"
   ],
   "metadata": {
    "collapsed": false,
    "ExecuteTime": {
     "end_time": "2023-12-27T16:44:21.820318800Z",
     "start_time": "2023-12-27T16:43:41.306427100Z"
    }
   },
   "id": "6c4b74a3e6ad7015"
  },
  {
   "cell_type": "code",
   "execution_count": 4,
   "outputs": [],
   "source": [
    "# Normalize pixel values\n",
    "data = data / 255.0\n",
    "\n",
    "# Convert labels to one-hot encoding\n",
    "labels = to_categorical(labels, num_classes=len(classes))"
   ],
   "metadata": {
    "collapsed": false,
    "ExecuteTime": {
     "end_time": "2023-12-27T17:37:58.905648100Z",
     "start_time": "2023-12-27T17:37:58.568006400Z"
    }
   },
   "id": "f13b37c18898170c"
  },
  {
   "cell_type": "code",
   "execution_count": 5,
   "outputs": [],
   "source": [
    "X_train, X_test, y_train, y_test = train_test_split(data, labels, test_size=0.2, random_state=42)\n"
   ],
   "metadata": {
    "collapsed": false,
    "ExecuteTime": {
     "end_time": "2023-12-27T17:38:07.275743700Z",
     "start_time": "2023-12-27T17:38:07.038468600Z"
    }
   },
   "id": "45ffa5de75941d1e"
  },
  {
   "cell_type": "code",
   "execution_count": 6,
   "outputs": [
    {
     "name": "stdout",
     "output_type": "stream",
     "text": [
      "WARNING:tensorflow:From C:\\Users\\Jiang\\flask-vue-crud\\env\\Lib\\site-packages\\keras\\src\\backend.py:873: The name tf.get_default_graph is deprecated. Please use tf.compat.v1.get_default_graph instead.\n",
      "WARNING:tensorflow:From C:\\Users\\Jiang\\flask-vue-crud\\env\\Lib\\site-packages\\keras\\src\\layers\\pooling\\max_pooling2d.py:161: The name tf.nn.max_pool is deprecated. Please use tf.nn.max_pool2d instead.\n",
      "WARNING:tensorflow:From C:\\Users\\Jiang\\flask-vue-crud\\env\\Lib\\site-packages\\keras\\src\\optimizers\\__init__.py:309: The name tf.train.Optimizer is deprecated. Please use tf.compat.v1.train.Optimizer instead.\n"
     ]
    }
   ],
   "source": [
    "model = Sequential([\n",
    "    Conv2D(32, (3,3), activation='relu', input_shape=(224, 224, 3)),\n",
    "    MaxPooling2D(2, 2),\n",
    "    Conv2D(64, (3,3), activation='relu'),\n",
    "    MaxPooling2D(2, 2),\n",
    "    Flatten(),\n",
    "    Dense(128, activation='relu'),\n",
    "    Dense(len(classes), activation='softmax')\n",
    "])\n",
    "\n",
    "model.compile(optimizer='adam', loss='categorical_crossentropy', metrics=['accuracy'])\n"
   ],
   "metadata": {
    "collapsed": false,
    "ExecuteTime": {
     "end_time": "2023-12-27T17:38:19.949080400Z",
     "start_time": "2023-12-27T17:38:19.071133Z"
    }
   },
   "id": "a397f91406d9e19"
  },
  {
   "cell_type": "code",
   "execution_count": 7,
   "outputs": [
    {
     "name": "stdout",
     "output_type": "stream",
     "text": [
      "Epoch 1/10\n",
      "WARNING:tensorflow:From C:\\Users\\Jiang\\flask-vue-crud\\env\\Lib\\site-packages\\keras\\src\\utils\\tf_utils.py:492: The name tf.ragged.RaggedTensorValue is deprecated. Please use tf.compat.v1.ragged.RaggedTensorValue instead.\n",
      "WARNING:tensorflow:From C:\\Users\\Jiang\\flask-vue-crud\\env\\Lib\\site-packages\\keras\\src\\engine\\base_layer_utils.py:384: The name tf.executing_eagerly_outside_functions is deprecated. Please use tf.compat.v1.executing_eagerly_outside_functions instead.\n",
      "17/17 [==============================] - 11s 560ms/step - loss: 4.0316 - accuracy: 0.1036 - val_loss: 2.9058 - val_accuracy: 0.0763\n",
      "Epoch 2/10\n",
      "17/17 [==============================] - 8s 500ms/step - loss: 2.4971 - accuracy: 0.2994 - val_loss: 2.5106 - val_accuracy: 0.3053\n",
      "Epoch 3/10\n",
      "17/17 [==============================] - 9s 511ms/step - loss: 1.2555 - accuracy: 0.6891 - val_loss: 2.2965 - val_accuracy: 0.4046\n",
      "Epoch 4/10\n",
      "17/17 [==============================] - 10s 586ms/step - loss: 0.3161 - accuracy: 0.9539 - val_loss: 2.2295 - val_accuracy: 0.4656\n",
      "Epoch 5/10\n",
      "17/17 [==============================] - 9s 547ms/step - loss: 0.0654 - accuracy: 0.9904 - val_loss: 2.6083 - val_accuracy: 0.4427\n",
      "Epoch 6/10\n",
      "17/17 [==============================] - 10s 577ms/step - loss: 0.0322 - accuracy: 0.9942 - val_loss: 3.0086 - val_accuracy: 0.4046\n",
      "Epoch 7/10\n",
      "17/17 [==============================] - 9s 537ms/step - loss: 0.0108 - accuracy: 1.0000 - val_loss: 3.0532 - val_accuracy: 0.4275\n",
      "Epoch 8/10\n",
      "17/17 [==============================] - 9s 528ms/step - loss: 0.0032 - accuracy: 1.0000 - val_loss: 2.9497 - val_accuracy: 0.4733\n",
      "Epoch 9/10\n",
      "17/17 [==============================] - 9s 502ms/step - loss: 0.0012 - accuracy: 1.0000 - val_loss: 3.0740 - val_accuracy: 0.4809\n",
      "Epoch 10/10\n",
      "17/17 [==============================] - 9s 548ms/step - loss: 6.9646e-04 - accuracy: 1.0000 - val_loss: 3.2083 - val_accuracy: 0.4656\n"
     ]
    }
   ],
   "source": [
    "history = model.fit(X_train, y_train, epochs=10, validation_data=(X_test, y_test))\n"
   ],
   "metadata": {
    "collapsed": false,
    "ExecuteTime": {
     "end_time": "2023-12-27T17:39:58.614786400Z",
     "start_time": "2023-12-27T17:38:25.153084100Z"
    }
   },
   "id": "b29dcb7cf2ae4c06"
  },
  {
   "cell_type": "code",
   "execution_count": 8,
   "outputs": [
    {
     "name": "stdout",
     "output_type": "stream",
     "text": [
      "5/5 [==============================] - 1s 115ms/step - loss: 3.2083 - accuracy: 0.4656\n",
      "Test accuracy: 46.56488597393036%\n"
     ]
    }
   ],
   "source": [
    "loss, accuracy = model.evaluate(X_test, y_test)\n",
    "print(f\"Test accuracy: {accuracy*100}%\")\n"
   ],
   "metadata": {
    "collapsed": false,
    "ExecuteTime": {
     "end_time": "2023-12-27T17:40:03.912751Z",
     "start_time": "2023-12-27T17:40:02.106769300Z"
    }
   },
   "id": "c5ab32c566f04e5a"
  },
  {
   "cell_type": "code",
   "execution_count": 13,
   "outputs": [],
   "source": [
    "model_save_path = \"sport_model.h5\"\n",
    "model.save(model_save_path)"
   ],
   "metadata": {
    "collapsed": false,
    "ExecuteTime": {
     "end_time": "2023-12-27T17:46:32.763571Z",
     "start_time": "2023-12-27T17:46:31.086277700Z"
    }
   },
   "id": "bcf4dd45eae60f24"
  },
  {
   "cell_type": "code",
   "execution_count": null,
   "outputs": [],
   "source": [],
   "metadata": {
    "collapsed": false
   },
   "id": "1a5fca7b98ad6e1c"
  }
 ],
 "metadata": {
  "kernelspec": {
   "display_name": "Python 3",
   "language": "python",
   "name": "python3"
  },
  "language_info": {
   "codemirror_mode": {
    "name": "ipython",
    "version": 2
   },
   "file_extension": ".py",
   "mimetype": "text/x-python",
   "name": "python",
   "nbconvert_exporter": "python",
   "pygments_lexer": "ipython2",
   "version": "2.7.6"
  }
 },
 "nbformat": 4,
 "nbformat_minor": 5
}
